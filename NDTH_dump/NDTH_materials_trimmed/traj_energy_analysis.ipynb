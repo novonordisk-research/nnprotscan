{
 "cells": [
  {
   "cell_type": "code",
   "execution_count": 1,
   "id": "cdcff6aa-23b4-4dd2-ad44-5607eacb0e1c",
   "metadata": {
    "tags": []
   },
   "outputs": [],
   "source": [
    "import os, sys\n",
    "import argparse\n",
    "import pandas as pd\n",
    "import seaborn as sns\n",
    "import numpy as np"
   ]
  },
  {
   "cell_type": "code",
   "execution_count": 2,
   "id": "8de9bb38-7e3a-42e4-9acd-1cc8acb829a1",
   "metadata": {
    "tags": []
   },
   "outputs": [],
   "source": [
    "def read_energy_data(filename):\n",
    "    if \"/\" in filename:\n",
    "        basename = os.path.basename(filename)  # \"example.txt\"\n",
    "        energy_term = os.path.splitext(basename)[0]\n",
    "        data = {\"frame\": [], energy_term: [], \"average\": [], \"std\": []}\n",
    "\n",
    "    with open(filename, \"r\") as f:\n",
    "        for line in f:\n",
    "            if line.startswith(\"#\") or line.startswith(\"@\"):\n",
    "                continue\n",
    "            else:\n",
    "                frame, value = line.strip().split()\n",
    "                data[\"frame\"].append(float(frame))\n",
    "                data[energy_term].append(float(value))\n",
    "\n",
    "    # Compute mean and standard deviation after skipping the first 100 entries\n",
    "    data[\"average\"] = np.mean(data[energy_term][100:])\n",
    "    data[\"std\"] = np.std(data[energy_term][100:])\n",
    "\n",
    "    return data\n"
   ]
  },
  {
   "cell_type": "code",
   "execution_count": 3,
   "id": "dad4e118-9d8c-4014-b05b-4f86ce2c0c3e",
   "metadata": {
    "tags": []
   },
   "outputs": [],
   "source": [
    "def main():\n",
    "    for root, dirs, files in os.walk(\".\"):\n",
    "        for file in files:\n",
    "            if file.endswith(\".xvg\") and (file.startswith(\"LJ\") or file.startswith(\"Coul\")):\n",
    "                filename = os.path.join(root, file)\n",
    "                data = read_energy_data(filename)\n",
    "                np.savez(os.path.splitext(filename)[0] + \".npz\", **data)"
   ]
  },
  {
   "cell_type": "code",
   "execution_count": 4,
   "id": "237d638d-4852-4076-9b25-3abcfc4bc872",
   "metadata": {
    "tags": []
   },
   "outputs": [],
   "source": [
    "main()"
   ]
  },
  {
   "cell_type": "code",
   "execution_count": 5,
   "id": "792362c9-d7a6-4561-9e83-cece34e2dfac",
   "metadata": {
    "tags": []
   },
   "outputs": [],
   "source": [
    "def read_npz_as_dict(npz_filename):\n",
    "    with np.load(npz_filename, allow_pickle=True) as data:\n",
    "        return {key: data[key] for key in data.keys()}"
   ]
  },
  {
   "cell_type": "code",
   "execution_count": 6,
   "id": "cf827715-8e0e-4314-b766-dde09b3c7fbd",
   "metadata": {
    "tags": []
   },
   "outputs": [
    {
     "data": {
      "text/plain": [
       "{'frame': array([0.000e+00, 1.000e+02, 2.000e+02, ..., 1.102e+05, 1.103e+05,\n",
       "        1.104e+05]),\n",
       " 'LJ_SR_GLP1_SEM': array([ -61.816345,  -58.455849,  -58.484711, ..., -121.420685,\n",
       "        -126.478424, -125.900787]),\n",
       " 'average': array(-112.52364462),\n",
       " 'std': array(19.5310793)}"
      ]
     },
     "execution_count": 6,
     "metadata": {},
     "output_type": "execute_result"
    }
   ],
   "source": [
    "data_dict = read_npz_as_dict(\"./K14/conf_1/LJ_SR_GLP1_SEM.npz\")\n",
    "data_dict"
   ]
  },
  {
   "cell_type": "code",
   "execution_count": 9,
   "id": "f81aa077-8a5d-4f0d-b06b-054764c512de",
   "metadata": {
    "tags": []
   },
   "outputs": [
    {
     "name": "stdout",
     "output_type": "stream",
     "text": [
      "/nfs_home/users/ndth/projects/protraction/GLP-1R/GLP1_GLP1R_SEM\n"
     ]
    }
   ],
   "source": [
    "!pwd"
   ]
  },
  {
   "cell_type": "code",
   "execution_count": null,
   "id": "afd7256d-fc11-4e28-8e9a-cfc105cfa22a",
   "metadata": {},
   "outputs": [],
   "source": []
  }
 ],
 "metadata": {
  "kernelspec": {
   "display_name": "Data_Analysis",
   "language": "python",
   "name": "data_analysis"
  },
  "language_info": {
   "codemirror_mode": {
    "name": "ipython",
    "version": 3
   },
   "file_extension": ".py",
   "mimetype": "text/x-python",
   "name": "python",
   "nbconvert_exporter": "python",
   "pygments_lexer": "ipython3",
   "version": "3.9.16"
  }
 },
 "nbformat": 4,
 "nbformat_minor": 5
}
